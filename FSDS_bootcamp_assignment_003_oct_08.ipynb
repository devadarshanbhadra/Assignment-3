{
  "nbformat": 4,
  "nbformat_minor": 0,
  "metadata": {
    "colab": {
      "provenance": []
    },
    "kernelspec": {
      "name": "python3",
      "display_name": "Python 3"
    },
    "language_info": {
      "name": "python"
    }
  },
  "cells": [
    {
      "cell_type": "markdown",
      "source": [
        "## Python String Manipulation"
      ],
      "metadata": {
        "id": "5luqCZWjrfeB"
      }
    },
    {
      "cell_type": "markdown",
      "source": [
        "1. Count the number of times iNeuron appears in the string."
      ],
      "metadata": {
        "id": "2dPT_4ZErkt6"
      }
    },
    {
      "cell_type": "code",
      "source": [
        "text = \"Welcome to iNeuron, You are a part of FSDS Bootcamp 2 in iNeuron. I hope you are enjoying the course by iNeuron\""
      ],
      "metadata": {
        "id": "EyAbMs4_rtuI"
      },
      "execution_count": 1,
      "outputs": []
    },
    {
      "cell_type": "code",
      "source": [
        "text.count(\"iNeuron\")"
      ],
      "metadata": {
        "colab": {
          "base_uri": "https://localhost:8080/"
        },
        "id": "qJALT_G8ru5c",
        "outputId": "c852e37e-22a7-4f2b-e42d-7cc419e821f0"
      },
      "execution_count": 4,
      "outputs": [
        {
          "output_type": "execute_result",
          "data": {
            "text/plain": [
              "3"
            ]
          },
          "metadata": {},
          "execution_count": 4
        }
      ]
    },
    {
      "cell_type": "markdown",
      "source": [
        "2.Check if position 5 to 11 ends with the phrase iNeuron. in the string"
      ],
      "metadata": {
        "id": "cXAhyz7DsRFq"
      }
    },
    {
      "cell_type": "code",
      "source": [
        "txt = \"Hello, welcome to FSDS 2.0 at iNeuron.\"\n",
        "txt.endswith(\"iNeuron.\")              ## name.endswith - Returns true if the string ends with the specified value"
      ],
      "metadata": {
        "colab": {
          "base_uri": "https://localhost:8080/"
        },
        "id": "wGtitiMKu3v4",
        "outputId": "da5a5e72-c7d2-4fca-ea71-ec0c0cc41428"
      },
      "execution_count": 22,
      "outputs": [
        {
          "output_type": "execute_result",
          "data": {
            "text/plain": [
              "True"
            ]
          },
          "metadata": {},
          "execution_count": 22
        }
      ]
    },
    {
      "cell_type": "code",
      "source": [
        "name = \"devadarshan bhadra\"\n",
        "name.split(\" \")"
      ],
      "metadata": {
        "colab": {
          "base_uri": "https://localhost:8080/"
        },
        "id": "oTW24v-outHU",
        "outputId": "0b79850f-ffcc-45e2-be93-b58111f0d0e8"
      },
      "execution_count": 23,
      "outputs": [
        {
          "output_type": "execute_result",
          "data": {
            "text/plain": [
              "['devadarshan', 'bhadra']"
            ]
          },
          "metadata": {},
          "execution_count": 23
        }
      ]
    },
    {
      "cell_type": "markdown",
      "source": [
        "3.Write a program that takes your full name as input and displays the abbreviations of the first and middle names except the last name which is displayed as it is. For example, if your name is Sunny Bhaveen Chandra, then the output should be S.B.Chandra."
      ],
      "metadata": {
        "id": "mrYsV4ZXweE7"
      }
    },
    {
      "cell_type": "code",
      "source": [
        "name = \"Sunny Bhaveen Chandra\"\n",
        "first_name, middle_name, sir_name = name.split(\" \")\n",
        "print(f\"{first_name[0]}.{ middle_name[0]}.{sir_name[::]}\")"
      ],
      "metadata": {
        "colab": {
          "base_uri": "https://localhost:8080/"
        },
        "id": "WbknC3t8wAa9",
        "outputId": "ce725e93-2ff3-49ee-f4f9-fe75f6966a34"
      },
      "execution_count": 29,
      "outputs": [
        {
          "output_type": "stream",
          "name": "stdout",
          "text": [
            "S.B.Chandra\n"
          ]
        }
      ]
    },
    {
      "cell_type": "markdown",
      "source": [
        "4.Join all items in a list into a string, using a hash(#) character as separator:"
      ],
      "metadata": {
        "id": "Zq8TQqpKyrNH"
      }
    },
    {
      "cell_type": "code",
      "source": [
        "LIST = [\"My\", \"name\", \"is\", \"Rishav\", \"Dash\"]\n",
        "\"#\".join(LIST)"
      ],
      "metadata": {
        "colab": {
          "base_uri": "https://localhost:8080/",
          "height": 36
        },
        "id": "XLQwF5-Tx0X8",
        "outputId": "b9d17733-3699-4c00-8b02-dad9daf97f9f"
      },
      "execution_count": 30,
      "outputs": [
        {
          "output_type": "execute_result",
          "data": {
            "text/plain": [
              "'My#name#is#Rishav#Dash'"
            ],
            "application/vnd.google.colaboratory.intrinsic+json": {
              "type": "string"
            }
          },
          "metadata": {},
          "execution_count": 30
        }
      ]
    },
    {
      "cell_type": "markdown",
      "source": [
        "5.Write example for the following string manipulation function,\n",
        "\n",
        "- isdecimal()\n",
        "- islower()\n",
        "- isupper()\n",
        "- isalpha()\n",
        "- isnumeric()"
      ],
      "metadata": {
        "id": "WoiJ1YO0z0xZ"
      }
    },
    {
      "cell_type": "code",
      "source": [
        "txt = \"2047899\"\n",
        "txt.isdecimal()"
      ],
      "metadata": {
        "colab": {
          "base_uri": "https://localhost:8080/"
        },
        "id": "_r66GJ7FzjO4",
        "outputId": "5c784d7b-a1f2-4cf3-f322-d7065fd9e3e0"
      },
      "execution_count": 43,
      "outputs": [
        {
          "output_type": "execute_result",
          "data": {
            "text/plain": [
              "True"
            ]
          },
          "metadata": {},
          "execution_count": 43
        }
      ]
    },
    {
      "cell_type": "code",
      "source": [
        "name =\"devadarshan.bhadra\"\n",
        "name.islower()"
      ],
      "metadata": {
        "colab": {
          "base_uri": "https://localhost:8080/"
        },
        "id": "duKVcjPV0sDj",
        "outputId": "2ac0d6ba-69c9-4cbf-a547-311224f6ca5a"
      },
      "execution_count": 44,
      "outputs": [
        {
          "output_type": "execute_result",
          "data": {
            "text/plain": [
              "True"
            ]
          },
          "metadata": {},
          "execution_count": 44
        }
      ]
    },
    {
      "cell_type": "code",
      "source": [
        "name =\"DEVADARSHAN.BHADRA\"\n",
        "name.isupper()"
      ],
      "metadata": {
        "colab": {
          "base_uri": "https://localhost:8080/"
        },
        "id": "1oNplFtn1lhb",
        "outputId": "a8184466-219f-4b46-982f-e1e0923a87e6"
      },
      "execution_count": 46,
      "outputs": [
        {
          "output_type": "execute_result",
          "data": {
            "text/plain": [
              "True"
            ]
          },
          "metadata": {},
          "execution_count": 46
        }
      ]
    },
    {
      "cell_type": "code",
      "source": [
        "name = \"ht1238110700west\"   \n",
        "name.isalnum()               # check for alphabets & numerics"
      ],
      "metadata": {
        "colab": {
          "base_uri": "https://localhost:8080/"
        },
        "id": "2Y-BtOrb1tYZ",
        "outputId": "71f26903-89c7-4e16-ad38-847ae7a63cb3"
      },
      "execution_count": 48,
      "outputs": [
        {
          "output_type": "execute_result",
          "data": {
            "text/plain": [
              "True"
            ]
          },
          "metadata": {},
          "execution_count": 48
        }
      ]
    },
    {
      "cell_type": "code",
      "source": [
        "name = \"eastwestnorthsouth\"   \n",
        "name.isalpha()                # check for alphabets"
      ],
      "metadata": {
        "colab": {
          "base_uri": "https://localhost:8080/"
        },
        "id": "d6OlKRAD2Bik",
        "outputId": "89bab1de-9b9a-443e-e16d-29b69f8ff467"
      },
      "execution_count": 50,
      "outputs": [
        {
          "output_type": "execute_result",
          "data": {
            "text/plain": [
              "True"
            ]
          },
          "metadata": {},
          "execution_count": 50
        }
      ]
    },
    {
      "cell_type": "code",
      "source": [
        "name = \"7702096480\"\n",
        "name.isnumeric()              # check for numerics"
      ],
      "metadata": {
        "colab": {
          "base_uri": "https://localhost:8080/"
        },
        "id": "Em-ihovv2Jrr",
        "outputId": "81827971-1054-444a-b306-b5ccb49d22b3"
      },
      "execution_count": 52,
      "outputs": [
        {
          "output_type": "execute_result",
          "data": {
            "text/plain": [
              "True"
            ]
          },
          "metadata": {},
          "execution_count": 52
        }
      ]
    },
    {
      "cell_type": "markdown",
      "source": [
        "6.Indian PAN card format follows the following formats -\n",
        "\n",
        "AYEPC7894X\n",
        "\n",
        "ABCDE9999Y Take user input for PAN_CARD and validate as per the above example."
      ],
      "metadata": {
        "id": "qVebUrFn3Niu"
      }
    },
    {
      "cell_type": "code",
      "source": [
        "pan_number = input(\"enter your pan_number: \")\n",
        "\n",
        "if pan_number[0:5].isupper() and pan_number[6:9].isdigit() and len(pan_number) == 10:\n",
        "  print(f\"User pan_number: correct \")\n",
        "else:\n",
        "  print(f\"pan_number entered is wrong please enter again: \")"
      ],
      "metadata": {
        "colab": {
          "base_uri": "https://localhost:8080/"
        },
        "id": "g_xIvDuv4Toe",
        "outputId": "d078f39d-5442-41a6-b12f-d0f16145e029"
      },
      "execution_count": 58,
      "outputs": [
        {
          "output_type": "stream",
          "name": "stdout",
          "text": [
            "enter your pan_number: CCKPB7906A\n",
            "User pan_number: correct \n"
          ]
        }
      ]
    },
    {
      "cell_type": "code",
      "source": [],
      "metadata": {
        "id": "puS5Zs2q4vPB"
      },
      "execution_count": 55,
      "outputs": []
    }
  ]
}